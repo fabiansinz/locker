{
 "cells": [
  {
   "cell_type": "code",
   "execution_count": null,
   "metadata": {},
   "outputs": [],
   "source": [
    "%matplotlib inline\n",
    "%load_ext autoreload\n",
    "%autoreload 2"
   ]
  },
  {
   "cell_type": "code",
   "execution_count": null,
   "metadata": {},
   "outputs": [],
   "source": [
    "import matplotlib.pyplot as plt\n",
    "import statsmodels.api as sm\n",
    "import statsmodels.formula.api as smf\n",
    "import locker.analysis  as ana\n",
    "import datajoint as dj\n",
    "\n"
   ]
  },
  {
   "cell_type": "markdown",
   "metadata": {},
   "source": [
    "Get all trials with contrast 20%, significant locking to beat or stimulus and |df|>30 to avoid confusion of stimulus and EOD.\n"
   ]
  },
  {
   "cell_type": "code",
   "execution_count": null,
   "metadata": {},
   "outputs": [],
   "source": [
    "dat = ana.Decoding() * ana.Cells() * ana.Decoding.Beat() * ana.Decoding.Stimulus() * ana.Runs() \\\n",
    "      & dict(am=0) & 'contrast >= 10 and ABS(delta_f) > 30 and cell_type=\"p-unit\"' #   & ['vs_stimulus >= crit_stimulus', 'vs_beat >= crit_beat'] \n",
    "dat"
   ]
  },
  {
   "cell_type": "code",
   "execution_count": null,
   "metadata": {},
   "outputs": [],
   "source": [
    "summary = dj.U('cell_id', 'df', 'contrast').aggr(\n",
    "            dat.proj('contrast', 'vs_beat', df='ROUND(delta_f, 0)'), locking='AVG(vs_beat)', trials='count(*)')\n",
    "n = dj.U('cell_id', 'contrast').aggr(summary, n='count(*)')\n",
    "\n",
    "df = pd.DataFrame((summary*n & 'n>=10 and trials>=10').fetch())\n",
    "len(df)"
   ]
  },
  {
   "cell_type": "code",
   "execution_count": null,
   "metadata": {},
   "outputs": [],
   "source": [
    "df"
   ]
  },
  {
   "cell_type": "code",
   "execution_count": null,
   "metadata": {},
   "outputs": [],
   "source": [
    "sns.set_context('notebook')\n",
    "g = sns.FacetGrid(df, col='cell_id', hue='contrast', col_wrap=4)\n",
    "\n",
    "def plot_tuning(df, locking, **kwargs):\n",
    "    df, locking = map(np.array, [df, locking])\n",
    "    idx = np.argsort(df)\n",
    "    plt.plot(df[idx], locking[idx], **kwargs)\n",
    "\n",
    "g.map(plot_tuning, 'df', 'locking')\n",
    "g.set_titles('{col_name}')\n",
    "g.add_legend()\n",
    "g.set_ylabels('locking to beat')\n",
    "g.set_xlabels(r'$\\Delta f$')\n",
    "sns.despine(trim=True)\n",
    "g.fig.set_dpi(100)\n",
    "g.fig.savefig('delta_f_vs_beat.png')"
   ]
  },
  {
   "cell_type": "code",
   "execution_count": null,
   "metadata": {},
   "outputs": [],
   "source": []
  }
 ],
 "metadata": {
  "kernelspec": {
   "display_name": "Python 3",
   "language": "python",
   "name": "python3"
  },
  "language_info": {
   "codemirror_mode": {
    "name": "ipython",
    "version": 3
   },
   "file_extension": ".py",
   "mimetype": "text/x-python",
   "name": "python",
   "nbconvert_exporter": "python",
   "pygments_lexer": "ipython3",
   "version": "3.5.2"
  }
 },
 "nbformat": 4,
 "nbformat_minor": 2
}
