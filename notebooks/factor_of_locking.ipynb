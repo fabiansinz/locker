{
 "cells": [
  {
   "cell_type": "code",
   "execution_count": null,
   "metadata": {},
   "outputs": [],
   "source": [
    "%matplotlib inline\n",
    "%load_ext autoreload\n",
    "%autoreload 2"
   ]
  },
  {
   "cell_type": "code",
   "execution_count": null,
   "metadata": {},
   "outputs": [],
   "source": [
    "import matplotlib.pyplot as plt\n",
    "import statsmodels.api as sm\n",
    "import statsmodels.formula.api as smf\n",
    "from locker.analysis import *\n",
    "from locker.data import BaseRate\n",
    "\n"
   ]
  },
  {
   "cell_type": "code",
   "execution_count": null,
   "metadata": {},
   "outputs": [],
   "source": [
    "rel = Runs() * SecondOrderSignificantPeaks() * StimulusSpikeJitter() * Cells() \\\n",
    "      & dict(stimulus_coeff=1, eod_coeff=0, baseline_coeff=0, refined=1, \\\n",
    "             cell_type='p-unit', am=0, n_harmonics=0) \\\n",
    "      & 'frequency > 0'\n"
   ]
  },
  {
   "cell_type": "markdown",
   "metadata": {},
   "source": [
    "### Number of cells"
   ]
  },
  {
   "cell_type": "code",
   "execution_count": null,
   "metadata": {},
   "outputs": [],
   "source": [
    "Cells.proj() & rel"
   ]
  },
  {
   "cell_type": "markdown",
   "metadata": {},
   "source": [
    "### Number of trials"
   ]
  },
  {
   "cell_type": "code",
   "execution_count": null,
   "metadata": {},
   "outputs": [],
   "source": [
    "Runs().proj() & rel\n"
   ]
  },
  {
   "cell_type": "markdown",
   "metadata": {},
   "source": [
    "### Get data"
   ]
  },
  {
   "cell_type": "code",
   "execution_count": null,
   "metadata": {},
   "outputs": [],
   "source": [
    "df = pd.DataFrame(rel.fetch())\n",
    "df['spread'] = df['stim_std'] / df['eod'] / 2 / np.pi\n",
    "df['jitter'] = df['stim_std']  # rename to avoid conflict with std function\n"
   ]
  },
  {
   "cell_type": "markdown",
   "metadata": {},
   "source": [
    "## Statistical Analysis"
   ]
  },
  {
   "cell_type": "markdown",
   "metadata": {},
   "source": [
    "### {1,2}-sigma border frequency domain"
   ]
  },
  {
   "cell_type": "code",
   "execution_count": null,
   "metadata": {},
   "outputs": [],
   "source": [
    "\n",
    "print('1 sigma in Frequency domain', np.mean(1 / (2 * np.pi * df.spread)))\n",
    "print('min sigma in Frequency domain', np.min(1 / (2 * np.pi * df.spread)))\n",
    "print('max sigma in Frequency domain', np.max(1 / (2 * np.pi * df.spread)))\n",
    "print('2 sigma in Frequency domain', np.mean(2 / (2 * np.pi * df.spread)))\n",
    "\n",
    "# \n"
   ]
  },
  {
   "cell_type": "code",
   "execution_count": null,
   "metadata": {},
   "outputs": [],
   "source": [
    "print(r\"contrast: \\rho={0}    p={1}\".format(*stats.pearsonr(df.contrast, df.vector_strength)))\n",
    "df2 = df[df.contrast == 20]\n",
    "print(r\"jitter: \\rho={0}    p={1}\".format(*stats.pearsonr(df2.jitter, df2.vector_strength)))\n",
    "print(r\"frequency: \\rho={0}    p={1}\".format(*stats.pearsonr(df2.frequency, df2.vector_strength)))\n"
   ]
  },
  {
   "cell_type": "markdown",
   "metadata": {},
   "source": [
    "### Without baseline firing"
   ]
  },
  {
   "cell_type": "code",
   "execution_count": null,
   "metadata": {},
   "outputs": [],
   "source": [
    "glm = smf.glm('vector_strength ~ frequency * jitter + contrast', data=df, \n",
    "              family=sm.families.Gamma()).fit()\n",
    "\n",
    "glm.summary()"
   ]
  },
  {
   "cell_type": "code",
   "execution_count": null,
   "metadata": {},
   "outputs": [],
   "source": [
    "glm.pvalues"
   ]
  },
  {
   "cell_type": "markdown",
   "metadata": {},
   "source": [
    "### With baseline firing"
   ]
  },
  {
   "cell_type": "code",
   "execution_count": null,
   "metadata": {},
   "outputs": [],
   "source": [
    "glm = smf.glm('vector_strength ~ frequency * jitter + contrast + baseline', data=df, \n",
    "              family=sm.families.Gamma()).fit()\n",
    "glm.summary()"
   ]
  },
  {
   "cell_type": "code",
   "execution_count": null,
   "metadata": {},
   "outputs": [],
   "source": [
    "glm.pvalues"
   ]
  }
 ],
 "metadata": {
  "kernelspec": {
   "display_name": "Python 3",
   "language": "python",
   "name": "python3"
  },
  "language_info": {
   "codemirror_mode": {
    "name": "ipython",
    "version": 3
   },
   "file_extension": ".py",
   "mimetype": "text/x-python",
   "name": "python",
   "nbconvert_exporter": "python",
   "pygments_lexer": "ipython3",
   "version": "3.5.2"
  }
 },
 "nbformat": 4,
 "nbformat_minor": 2
}
