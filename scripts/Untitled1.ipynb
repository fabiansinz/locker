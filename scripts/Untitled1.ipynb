{
 "cells": [
  {
   "cell_type": "code",
   "execution_count": 4,
   "metadata": {},
   "outputs": [],
   "source": [
    "import datajoint as dj\n",
    "import numpy as np\n",
    "import pandas as pd\n",
    "import seaborn as sns\n",
    "from scipy.stats import stats\n",
    "\n",
    "from locker import analysis as alys, colors, colordict\n",
    "from locker import data"
   ]
  },
  {
   "cell_type": "code",
   "execution_count": 13,
   "metadata": {},
   "outputs": [
    {
     "name": "stdout",
     "output_type": "stream",
     "text": [
      "0.02387193806297756\n"
     ]
    }
   ],
   "source": [
    "alys.FirstOrderSignificantPeaks() * data.Cells() & 'eod_coeff = 0 and abs(stimulus_coeff) = 1 and baseline_coeff=0 and refined=1'\n",
    "\n",
    "restr = dj.AndList([\n",
    "    ['cell_type=\"e-cell\"', 'cell_type = \"i-cell\"'],\n",
    "        \"n_harmonics = 0\",\n",
    "        \"am = 0\",\n",
    "        \"contrast = 20.0\",\n",
    "         'refined=1',\n",
    "        '(abs(delta_f) between 95 and 105)',\n",
    "        'eod_coeff = 0 and abs(stimulus_coeff) = 1 and baseline_coeff=0'\n",
    "]\n",
    ")\n",
    "temp = alys.FirstOrderSignificantPeaks() * data.Runs() * data.Cells() & restr\n",
    "temp = temp.proj('vector_strength', 'frequency','cell_type', pos='delta_f > 0')\n",
    "\n",
    "pd_pyr = pd.DataFrame(temp.fetch())\n",
    "print(np.std(pd_pyr.loc[pd_pyr['cell_type']=='i-cell', 'vector_strength']))"
   ]
  },
  {
   "cell_type": "code",
   "execution_count": 15,
   "metadata": {},
   "outputs": [
    {
     "name": "stderr",
     "output_type": "stream",
     "text": [
      "/usr/local/lib/python3.5/dist-packages/scipy/stats/stats.py:1713: FutureWarning: Using a non-tuple sequence for multidimensional indexing is deprecated; use `arr[tuple(seq)]` instead of `arr[seq]`. In the future this will be interpreted as an array index, `arr[np.array(seq)]`, which will result either in an error or a different result.\n",
      "  return np.add.reduce(sorted[indexer] * weights, axis=axis) / sumval\n"
     ]
    },
    {
     "data": {
      "image/png": "[encoded data removed]",
      "text/plain": [
       "<Figure size 402.375x360 with 1 Axes>"
      ]
     },
     "metadata": {},
     "output_type": "display_data"
    }
   ],
   "source": [
    "g = sns.catplot(\"cell_type\", \"vector_strength\", hue=\"pos\", data=pd_pyr, kind=\"bar\")\n",
    "g.set_ylabels('Cell Type')\n",
    "g.set_xlabels('Vector Strength')\n",
    "sns.despine()\n"
   ]
  },
  {
   "cell_type": "code",
   "execution_count": 16,
   "metadata": {},
   "outputs": [
    {
     "name": "stdout",
     "output_type": "stream",
     "text": [
      "0.32834707808904995\n"
     ]
    }
   ],
   "source": [
    "\n",
    "pd_pyr.groupby([\"cell_type\", \"pos\"]).count()\n",
    "f_tab, p_val = stats.ttest_ind(pd_pyr.loc[pd_pyr['cell_type']=='e-cell', 'vector_strength'], pd_pyr.loc[pd_pyr['cell_type']=='i-cell', 'vector_strength'])\n",
    "\n",
    "print(p_val)"
   ]
  },
  {
   "cell_type": "code",
   "execution_count": null,
   "metadata": {},
   "outputs": [],
   "source": []
  }
 ],
 "metadata": {
  "kernelspec": {
   "display_name": "Python 3",
   "language": "python",
   "name": "python3"
  },
  "language_info": {
   "codemirror_mode": {
    "name": "ipython",
    "version": 3
   },
   "file_extension": ".py",
   "mimetype": "text/x-python",
   "name": "python",
   "nbconvert_exporter": "python",
   "pygments_lexer": "ipython3",
   "version": "3.5.2"
  }
 },
 "nbformat": 4,
 "nbformat_minor": 2
}
