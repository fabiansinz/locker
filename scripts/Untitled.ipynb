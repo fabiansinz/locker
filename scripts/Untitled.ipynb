{
 "cells": [
  {
   "cell_type": "code",
   "execution_count": null,
   "metadata": {},
   "outputs": [],
   "source": [
    "import matplotlib\n",
    "matplotlib.use('Agg')\n",
    "\n",
    "from locker import mkdir\n",
    "from scripts.config import params as plot_params, FormatedFigure\n",
    "# mpl.use('Agg')      # With this line = figure disappears; without this line = warning\n",
    "import matplotlib.pyplot as plt\n",
    "from locker.analysis import *"
   ]
  },
  {
   "cell_type": "code",
   "execution_count": null,
   "metadata": {},
   "outputs": [],
   "source": [
    "f_max = 2000  # Hz\n",
    "delta_f = 200\n",
    "\n",
    "runs = Runs()\n",
    "    for cell in (Cells() & dict(cell_type='p-unit', cell_id='2014-12-03-ao')).fetch(\"KEY\"):"
   ]
  }
 ],
 "metadata": {
  "kernelspec": {
   "display_name": "Python 3",
   "language": "python",
   "name": "python3"
  },
  "language_info": {
   "codemirror_mode": {
    "name": "ipython",
    "version": 3
   },
   "file_extension": ".py",
   "mimetype": "text/x-python",
   "name": "python",
   "nbconvert_exporter": "python",
   "pygments_lexer": "ipython3",
   "version": "3.6.6"
  }
 },
 "nbformat": 4,
 "nbformat_minor": 4
}
