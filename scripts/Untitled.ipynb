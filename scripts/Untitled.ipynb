{
 "cells": [
  {
   "cell_type": "code",
   "execution_count": 1,
   "metadata": {},
   "outputs": [
    {
     "name": "stderr",
     "output_type": "stream",
     "text": [
      "/usr/lib/python3.5/importlib/_bootstrap.py:222: RuntimeWarning: numpy.dtype size changed, may indicate binary incompatibility. Expected 96, got 88\n",
      "  return f(*args, **kwds)\n",
      "/usr/lib/python3.5/importlib/_bootstrap.py:222: RuntimeWarning: numpy.dtype size changed, may indicate binary incompatibility. Expected 96, got 88\n",
      "  return f(*args, **kwds)\n",
      "/usr/lib/python3.5/importlib/_bootstrap.py:222: RuntimeWarning: numpy.dtype size changed, may indicate binary incompatibility. Expected 96, got 88\n",
      "  return f(*args, **kwds)\n",
      "/usr/lib/python3.5/importlib/_bootstrap.py:222: RuntimeWarning: numpy.dtype size changed, may indicate binary incompatibility. Expected 96, got 88\n",
      "  return f(*args, **kwds)\n",
      "/usr/local/lib/python3.5/dist-packages/statsmodels/compat/pandas.py:56: FutureWarning: The pandas.core.datetools module is deprecated and will be removed in a future version. Please use the pandas.tseries module instead.\n",
      "  from pandas.core import datetools\n"
     ]
    },
    {
     "name": "stdout",
     "output_type": "stream",
     "text": [
      "Connecting efish@134.2.92.39:3306\n"
     ]
    }
   ],
   "source": [
    "import matplotlib\n",
    "matplotlib.use('Agg')\n",
    "\n",
    "from collections import OrderedDict\n",
    "\n",
    "import matplotlib.pyplot as plt\n",
    "import numpy as np\n",
    "import pandas as pd\n",
    "import seaborn as sns\n",
    "from scipy.stats import stats\n",
    "\n",
    "from locker import analysis as alys, colors, colordict\n",
    "from locker import data\n",
    "from locker import mkdir\n",
    "from locker import sanity\n",
    "from locker.data import Baseline\n",
    "from scripts.config import params as plot_params, FormatedFigure\n",
    "import pycircstat as circ\n"
   ]
  },
  {
   "cell_type": "code",
   "execution_count": 11,
   "metadata": {},
   "outputs": [],
   "source": [
    "rel_py_beat = data.Runs() * alys.FirstOrderSignificantPeaks()  \\\n",
    "                 * data.Cells() * sanity.SpikeCheck.SpikeCount() \\\n",
    "                 & 'spike_count > 1' \\\n",
    "                 & dict(eod_coeff=-1, baseline_coeff=0, refined=1, am=0, n_harmonics=0) \\\n",
    "                 & 'stimulus_coeff = 1' \\\n",
    "                 & 'frequency > 0' \\\n",
    "                 & ['cell_type=\"i-cell\"', 'cell_type=\"e-cell\"']\n",
    "\n",
    "rel_py = data.Runs() * alys.FirstOrderSignificantPeaks()  \\\n",
    "                 * data.Cells() * sanity.SpikeCheck.SpikeCount() \\\n",
    "                 & 'spike_count > 1' \\\n",
    "                 & dict(eod_coeff=0, baseline_coeff=0, refined=1, am=0, n_harmonics=0) \\\n",
    "                 & 'stimulus_coeff = 1' \\\n",
    "                 & 'frequency > 0' \\\n",
    "                 & ['cell_type=\"i-cell\"', 'cell_type=\"e-cell\"']\n",
    "df = pd.DataFrame(rel_py.fetch())\n",
    "df2 = pd.DataFrame(rel_py_beat.fetch())\n"
   ]
  },
  {
   "cell_type": "code",
   "execution_count": 12,
   "metadata": {},
   "outputs": [
    {
     "name": "stdout",
     "output_type": "stream",
     "text": [
      "26\n",
      "15\n"
     ]
    }
   ],
   "source": [
    "print(len(pd.unique(df['cell_id'])))\n",
    "print(len(pd.unique(df2['cell_id'])))"
   ]
  },
  {
   "cell_type": "code",
   "execution_count": null,
   "metadata": {},
   "outputs": [],
   "source": []
  }
 ],
 "metadata": {
  "kernelspec": {
   "display_name": "Python 3",
   "language": "python",
   "name": "python3"
  },
  "language_info": {
   "codemirror_mode": {
    "name": "ipython",
    "version": 3
   },
   "file_extension": ".py",
   "mimetype": "text/x-python",
   "name": "python",
   "nbconvert_exporter": "python",
   "pygments_lexer": "ipython3",
   "version": "3.5.2"
  }
 },
 "nbformat": 4,
 "nbformat_minor": 2
}
