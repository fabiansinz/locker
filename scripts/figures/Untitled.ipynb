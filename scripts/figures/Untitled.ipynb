{
 "cells": [
  {
   "cell_type": "code",
   "execution_count": null,
   "metadata": {},
   "outputs": [],
   "source": [
    "import matplotlib\n",
    "\n",
    "matplotlib.use('Agg')\n",
    "from matplotlib import cm\n",
    "import matplotlib.pyplot as plt\n",
    "import statsmodels.api as sm\n",
    "import statsmodels.formula.api as smf\n",
    "from scripts.config import params as plot_params\n",
    "from locker.analysis import *\n",
    "from itertools import repeat\n",
    "%matplotlib inline  "
   ]
  },
  {
   "cell_type": "code",
   "execution_count": null,
   "metadata": {},
   "outputs": [],
   "source": [
    "rel = Runs() * SecondOrderSignificantPeaks() * StimulusSpikeJitter() * Cells() \\\n",
    "      & dict(stimulus_coeff=1, eod_coeff= 0, baseline_coeff=0, refined=1, \\\n",
    "             am=0, n_harmonics=0) \\\n",
    "      & 'frequency > 0'\n",
    "# & 'stimulus_coeff = 1' \\\n",
    "\n",
    "rel_beat = Runs() * SecondOrderSignificantPeaks() * StimulusSpikeJitter() * Cells() \\\n",
    "      & dict(stimulus_coeff=1, eod_coeff=-1, baseline_coeff=0, refined=1, \\\n",
    "             am=0, n_harmonics=0) \\\n",
    "      & 'frequency > 0'\n",
    "\n",
    "df = pd.DataFrame(rel.fetch())\n",
    "df['spread'] = df['stim_std'] / df['eod'] / 2 / np.pi\n",
    "df['jitter'] = df['stim_std']  # rename to avoid conflict with std function\n",
    "\n",
    "df2 = pd.DataFrame(rel_beat.fetch())\n",
    "df2['spread'] = df2['stim_std'] / df2['eod'] / 2 / np.pi\n",
    "df2['jitter'] = df2['stim_std']  # rename to avoid conflict with std function"
   ]
  },
  {
   "cell_type": "code",
   "execution_count": null,
   "metadata": {},
   "outputs": [],
   "source": [
    "print(len(df2.cell_id.unique()))\n",
    "print(df2.groupby('cell_type').size()['p-unit'])\n",
    "#offset = np.linspace(-0.15, 0.15, len(df2.cell_id.unique()))\n",
    "#for i,cid in enumerate(df2.cell_id.unique()):\n",
    "#    df2.contrast[df2.cell_id == cid] +=  offset[i]\n",
    "\n",
    "#print(df2)"
   ]
  },
  {
   "cell_type": "code",
   "execution_count": null,
   "metadata": {},
   "outputs": [],
   "source": [
    "ax = sns.pointplot('contrast', 'vector_strength', data=df2[df2.stimulus_coeff == 1],\n",
    "              order=[10, 20], hue='cell_id',\n",
    "              join=True, scale=.5, errwidth=1., markers=['' for ci in pd.unique(df.cell_id)])\n",
    "print(ax.lines)\n",
    "unsorted_lines = []\n",
    "unsorted_total = []\n",
    "unsorted_yvals = []\n",
    "for i,l in enumerate(ax.lines):\n",
    "    if i%3==0:\n",
    "        temp = l.get_data()\n",
    "        unsorted_lines.append(temp[1])\n",
    "        unsorted_yvals.append(temp[1][0])\n",
    "    \n",
    "#print(unsorted_lines)\n",
    "#sorted_idx = np.argsort(np.abs(np.diff(unsorted_lines))[:,0])\n",
    "#sorted_idx = [i * 3 for i in sorted_idx]\n",
    "\n",
    "sorted_yvals = np.argsort(unsorted_yvals)\n",
    "sorted_yvals = [i * 3 for i in sorted_yvals]\n",
    "new_sort = []\n",
    "for lin in sorted_yvals:\n",
    "    new_sort.append(lin)\n",
    "    new_sort.append(lin+1)\n",
    "    new_sort.append(lin+2)\n",
    "ax.lines = [ax.lines[i] for i in new_sort]\n",
    "\n",
    "#sorted_total = np.array(unsorted_total)[sorted_idx]\n",
    "line_cols = cm.get_cmap('Blues')\n",
    "colors = line_cols(np.linspace(0.5,1,len(sorted_yvals)))\n",
    "colors = [c for item in colors for c in repeat(item, 3)]\n",
    "\n",
    "for i, (l, c) in enumerate(zip(ax.lines, colors)):\n",
    "    ofs = offset[int(np.floor(i/3))]\n",
    "    temp = l.get_data()\n",
    "    l.set_data(([temp[0][0]+ofs, temp[0][1]+ofs], temp[1]))\n",
    "    l.set_color(c)\n",
    "ax.legend().set_visible(False)\n",
    "        \n",
    "plt.savefig('jitters.png')\n"
   ]
  },
  {
   "cell_type": "code",
   "execution_count": null,
   "metadata": {},
   "outputs": [],
   "source": [
    "l = ax.lines[6]\n",
    "l_data = l.get_data()\n",
    "print(l_data)"
   ]
  },
  {
   "cell_type": "code",
   "execution_count": null,
   "metadata": {},
   "outputs": [],
   "source": [
    "def jitter_yvals(ax):\n",
    "    unsorted_lines = []\n",
    "    unsorted_total = []\n",
    "    unsorted_yvals = []\n",
    "    for i,l in enumerate(ax.lines):\n",
    "        if i%3==0:\n",
    "            temp = l.get_data()\n",
    "            unsorted_lines.append(temp[1])\n",
    "            unsorted_yvals.append(temp[1][0])\n",
    "        \n",
    "    sorted_yvals = np.argsort(unsorted_yvals)\n",
    "    sorted_yvals = [i * 3 for i in sorted_yvals]\n",
    "\n",
    "    new_sort = []\n",
    "    for lin in sorted_yvals:\n",
    "        new_sort.append(lin)\n",
    "        new_sort.append(lin+1)\n",
    "        new_sort.append(lin+2)\n",
    "    ax.lines = [ax.lines[i] for i in new_sort]\n",
    "    offset = np.linspace(-0.15, 0.15, len(df2.cell_id.unique()))\n",
    "    for i, (l, c) in enumerate(zip(ax.lines, colors)):\n",
    "        ofs = offset[int(np.floor(i/3))]\n",
    "        temp = l.get_data()\n",
    "        l.set_data(([temp[0][0]+ofs, temp[0][1]+ofs], temp[1]))\n",
    "        l.set_color(c)"
   ]
  }
 ],
 "metadata": {
  "kernelspec": {
   "display_name": "Python 3",
   "language": "python",
   "name": "python3"
  },
  "language_info": {
   "codemirror_mode": {
    "name": "ipython",
    "version": 3
   },
   "file_extension": ".py",
   "mimetype": "text/x-python",
   "name": "python",
   "nbconvert_exporter": "python",
   "pygments_lexer": "ipython3",
   "version": "3.5.2"
  }
 },
 "nbformat": 4,
 "nbformat_minor": 2
}
