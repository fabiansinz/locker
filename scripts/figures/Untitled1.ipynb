{
 "cells": [
  {
   "cell_type": "code",
   "execution_count": null,
   "metadata": {},
   "outputs": [],
   "source": [
    "import matplotlib\n",
    "\n",
    "matplotlib.use('Agg')\n",
    "from matplotlib import cm\n",
    "import matplotlib.pyplot as plt\n",
    "import statsmodels.api as sm\n",
    "import statsmodels.formula.api as smf\n",
    "from scripts.config import params as plot_params\n",
    "from locker.analysis import *\n",
    "from locker import data\n",
    "from itertools import repeat\n",
    "from locker import analysis as alys\n",
    "%matplotlib inline  "
   ]
  },
  {
   "cell_type": "code",
   "execution_count": null,
   "metadata": {},
   "outputs": [],
   "source": [
    "restr = dj.AndList([\n",
    "    ['cell_type=\"e-cell\"', 'cell_type = \"i-cell\"'],\n",
    "\n",
    "        'eod_coeff = 1 and stimulus_coeff = -1 and baseline_coeff=0'\n",
    "]\n",
    ")\n",
    "temp = alys.FirstOrderSignificantPeaks() * data.Runs() * data.Cells() & restr\n",
    "df = pd.DataFrame(temp.fetch())\n",
    "print(len(df.cell_id.unique()))"
   ]
  },
  {
   "cell_type": "code",
   "execution_count": null,
   "metadata": {},
   "outputs": [],
   "source": []
  },
  {
   "cell_type": "code",
   "execution_count": null,
   "metadata": {},
   "outputs": [],
   "source": []
  }
 ],
 "metadata": {
  "kernelspec": {
   "display_name": "Python 3",
   "language": "python",
   "name": "python3"
  },
  "language_info": {
   "codemirror_mode": {
    "name": "ipython",
    "version": 3
   },
   "file_extension": ".py",
   "mimetype": "text/x-python",
   "name": "python",
   "nbconvert_exporter": "python",
   "pygments_lexer": "ipython3",
   "version": "3.5.2"
  }
 },
 "nbformat": 4,
 "nbformat_minor": 2
}
