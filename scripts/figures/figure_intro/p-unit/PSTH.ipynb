{
 "cells": [
  {
   "cell_type": "code",
   "execution_count": null,
   "metadata": {},
   "outputs": [],
   "source": [
    "import matplotlib\n",
    "\n",
    "matplotlib.use('Agg')\n",
    "import seaborn as sns\n",
    "from locker import mkdir\n",
    "from locker.analysis import *\n",
    "from locker.data import *\n",
    "from scripts.config import params as plot_params, FormatedFigure\n",
    "import matplotlib.pyplot as plt\n",
    "from locker.analysis import *\n",
    "import pycircstat as circ\n",
    "from numpy.fft import fft, fftfreq, fftshift\n",
    "%matplotlib inline  "
   ]
  },
  {
   "cell_type": "code",
   "execution_count": null,
   "metadata": {},
   "outputs": [],
   "source": [
    "fig, ax = plt.subplots(1,1)\n",
    "runs = Runs()\n",
    "for cell in (Cells() & dict(cell_type='p-unit', cell_id='2014-12-03-ao')).fetch(\"KEY\"):\n",
    "    unit = (Cells & cell).fetch1('cell_type')\n",
    "    cell['cell_type'] = unit\n",
    "    contrast = 20\n",
    "\n",
    "    target_trials = runs & cell & dict(contrast=contrast, am=0, n_harmonics=0, delta_f=200)\n",
    "    if len(target_trials) > 0:\n",
    "        if Baseline() & cell:\n",
    "            (Baseline() & cell).plot_raster(ax)\n",
    "\n",
    "plt.savefig('PSTH.png')"
   ]
  },
  {
   "cell_type": "code",
   "execution_count": null,
   "metadata": {},
   "outputs": [],
   "source": [
    "plt.show()"
   ]
  },
  {
   "cell_type": "code",
   "execution_count": null,
   "metadata": {},
   "outputs": [],
   "source": []
  }
 ],
 "metadata": {
  "kernelspec": {
   "display_name": "Python 3",
   "language": "python",
   "name": "python3"
  },
  "language_info": {
   "codemirror_mode": {
    "name": "ipython",
    "version": 3
   },
   "file_extension": ".py",
   "mimetype": "text/x-python",
   "name": "python",
   "nbconvert_exporter": "python",
   "pygments_lexer": "ipython3",
   "version": "3.5.2"
  }
 },
 "nbformat": 4,
 "nbformat_minor": 2
}
